{
 "cells": [
  {
   "cell_type": "code",
   "execution_count": 14,
   "metadata": {
    "tags": []
   },
   "outputs": [
    {
     "output_type": "stream",
     "name": "stdout",
     "text": [
      "menu data item count: 32\nsales data item count: 74124\n"
     ]
    }
   ],
   "source": [
    "import numpy_financial as npf\n",
    "import csv\n",
    "from pathlib import Path\n",
    "\n",
    "# ------------------------------------------------------------------------------------\n",
    "# Function\n",
    "#   name:   parse_menu_data\n",
    "#   input:  Path\n",
    "#   return: returns dictionary of lists using item name as key for fast lookup\n",
    "# ------------------------------------------------------------------------------------\n",
    "def parse_menu_data(path) :\n",
    "\n",
    "    # Need fast lookup by key (item name)\n",
    "    # Can index into list of props\n",
    "    # Thus, we want dicitonary of lists\n",
    "    menu_data = {}\n",
    "\n",
    "    # Open file for read\n",
    "    with open(path, 'r') as file :\n",
    "\n",
    "        # Init csv reader\n",
    "        csvreader = csv.reader(file, delimiter = ',')  \n",
    "\n",
    "        # Parse header (item, category, description, price, cost)\n",
    "        header = next(csvreader)\n",
    "\n",
    "        # Iterate over rows\n",
    "        for row in csvreader :\n",
    "\n",
    "            # Parse key and list of details from line\n",
    "            key = row[0]\n",
    "            details = [ row[1], row[2], row[3], row[4] ]\n",
    "            \n",
    "            # Add dictionary entry\n",
    "            menu_data[key] = details\n",
    "\n",
    "    return menu_data\n",
    "\n",
    "# ------------------------------------------------------------------------------------\n",
    "# Function\n",
    "#   name:   parse_sales_data\n",
    "#   input:  Path\n",
    "#   return: list of lists\n",
    "# ------------------------------------------------------------------------------------\n",
    "def parse_sales_data(path) :\n",
    "\n",
    "    # 2D list\n",
    "    sales_data = []\n",
    "\n",
    "    # Open file for read\n",
    "    with open(path, 'r') as file :\n",
    "\n",
    "        # Init csv reader\n",
    "        csvreader = csv.reader(file, delimiter = ',')  \n",
    "\n",
    "        # Parse header (item, category, description, price, cost)\n",
    "        header = next(csvreader)\n",
    "\n",
    "        # Iterate over rows\n",
    "        for row in csvreader :\n",
    "\n",
    "            # Add sales record to list of sales data\n",
    "            sales_record = [ row[0], row[1], row[2], row[3], row[4] ]\n",
    "            sales_data.append(sales_record)\n",
    "\n",
    "    return sales_data\n",
    "# ------------------------------------------------------------------------------------\n",
    "\n",
    "# Paths\n",
    "menu_data_path = Path('menu_data.csv')\n",
    "sales_data_path = Path('sales_data.csv')\n",
    "\n",
    "# Parse menu data\n",
    "menu_data = parse_menu_data(menu_data_path)\n",
    "sales_data = parse_sales_data(sales_data_path)\n",
    "\n",
    "# Debug\n",
    "print(f\"menu data item count: {len(menu_data)}\")\n",
    "print(f\"sales data item count: {len(sales_data)}\")\n",
    "\n",
    "\n"
   ]
  },
  {
   "cell_type": "code",
   "execution_count": null,
   "metadata": {},
   "outputs": [],
   "source": []
  }
 ],
 "metadata": {
  "kernelspec": {
   "display_name": "Python 3",
   "language": "python",
   "name": "python3"
  },
  "language_info": {
   "codemirror_mode": {
    "name": "ipython",
    "version": 3
   },
   "file_extension": ".py",
   "mimetype": "text/x-python",
   "name": "python",
   "nbconvert_exporter": "python",
   "pygments_lexer": "ipython3",
   "version": "3.8.3-final"
  }
 },
 "nbformat": 4,
 "nbformat_minor": 4
}